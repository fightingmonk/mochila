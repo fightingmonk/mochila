{
 "cells": [
  {
   "cell_type": "code",
   "execution_count": 5,
   "id": "06aba969",
   "metadata": {},
   "outputs": [],
   "source": [
    "from arango import ArangoClient\n",
    "client = ArangoClient(hosts=\"http://localhost:8529\")\n",
    "sys_db = client.db(\"_system\", username=\"root\", password=\"\")\n",
    "\n",
    "db = client.db(\"school\", username=\"root\", password=\"\")\n",
    "if db.has_collection(\"students\"):\n",
    "    students = db.collection(\"students\")\n",
    "else:\n",
    "    students = db.create_collection(\"students\")\n",
    "    students.add_hash_index(fields=[\"name\"], unique=True)\n",
    "    students.insert({\"name\": \"jane\", \"age\": 39})\n",
    "    students.insert({\"name\": \"josh\", \"age\": 18})\n",
    "    students.insert({\"name\": \"judy\", \"age\": 21})\n",
    "\n",
    "cursor = db.aql.execute(\"FOR doc IN students RETURN doc\")\n",
    "\n",
    "import pandas as pd\n",
    "df=pd.json_normalize(list(cursor))"
   ]
  },
  {
   "cell_type": "code",
   "execution_count": 6,
   "id": "de5f1083",
   "metadata": {},
   "outputs": [
    {
     "data": {
      "text/html": [
       "<div>\n",
       "<style scoped>\n",
       "    .dataframe tbody tr th:only-of-type {\n",
       "        vertical-align: middle;\n",
       "    }\n",
       "\n",
       "    .dataframe tbody tr th {\n",
       "        vertical-align: top;\n",
       "    }\n",
       "\n",
       "    .dataframe thead th {\n",
       "        text-align: right;\n",
       "    }\n",
       "</style>\n",
       "<table border=\"1\" class=\"dataframe\">\n",
       "  <thead>\n",
       "    <tr style=\"text-align: right;\">\n",
       "      <th></th>\n",
       "      <th>_key</th>\n",
       "      <th>_id</th>\n",
       "      <th>_rev</th>\n",
       "      <th>name</th>\n",
       "      <th>age</th>\n",
       "    </tr>\n",
       "  </thead>\n",
       "  <tbody>\n",
       "    <tr>\n",
       "      <th>0</th>\n",
       "      <td>456</td>\n",
       "      <td>students/456</td>\n",
       "      <td>_g-J1Qre---</td>\n",
       "      <td>jane</td>\n",
       "      <td>39</td>\n",
       "    </tr>\n",
       "    <tr>\n",
       "      <th>1</th>\n",
       "      <td>458</td>\n",
       "      <td>students/458</td>\n",
       "      <td>_g-J1Qri---</td>\n",
       "      <td>josh</td>\n",
       "      <td>18</td>\n",
       "    </tr>\n",
       "    <tr>\n",
       "      <th>2</th>\n",
       "      <td>460</td>\n",
       "      <td>students/460</td>\n",
       "      <td>_g-J1Qrm---</td>\n",
       "      <td>judy</td>\n",
       "      <td>21</td>\n",
       "    </tr>\n",
       "  </tbody>\n",
       "</table>\n",
       "</div>"
      ],
      "text/plain": [
       "  _key           _id         _rev  name  age\n",
       "0  456  students/456  _g-J1Qre---  jane   39\n",
       "1  458  students/458  _g-J1Qri---  josh   18\n",
       "2  460  students/460  _g-J1Qrm---  judy   21"
      ]
     },
     "execution_count": 6,
     "metadata": {},
     "output_type": "execute_result"
    }
   ],
   "source": [
    "df"
   ]
  },
  {
   "cell_type": "code",
   "execution_count": null,
   "id": "61762d4d",
   "metadata": {},
   "outputs": [],
   "source": []
  }
 ],
 "metadata": {
  "kernelspec": {
   "display_name": "Python 3 (ipykernel)",
   "language": "python",
   "name": "python3"
  },
  "language_info": {
   "codemirror_mode": {
    "name": "ipython",
    "version": 3
   },
   "file_extension": ".py",
   "mimetype": "text/x-python",
   "name": "python",
   "nbconvert_exporter": "python",
   "pygments_lexer": "ipython3",
   "version": "3.10.11"
  }
 },
 "nbformat": 4,
 "nbformat_minor": 5
}
