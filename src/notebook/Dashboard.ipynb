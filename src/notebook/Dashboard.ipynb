{
 "cells": [
  {
   "cell_type": "markdown",
   "id": "0bbac02e",
   "metadata": {},
   "source": [
    "## Welcome to Mochila"
   ]
  },
  {
   "cell_type": "code",
   "execution_count": 2,
   "id": "3af5ea05",
   "metadata": {
    "tags": [
     "hide-input"
    ]
   },
   "outputs": [
    {
     "data": {
      "application/vnd.jupyter.widget-view+json": {
       "model_id": "d51af5b9810149339e995e8034e330e7",
       "version_major": 2,
       "version_minor": 0
      },
      "text/html": [
       "Cannot show widget. You probably want to rerun the code cell above (<i>Click in the code cell, and press Shift+Enter <kbd>⇧</kbd>+<kbd>↩</kbd></i>)."
      ],
      "text/plain": [
       "Cannot show ipywidgets in text"
      ]
     },
     "metadata": {},
     "output_type": "display_data"
    }
   ],
   "source": [
    "import solara, json\n",
    "from arango import ArangoClient\n",
    "\n",
    "DATABASE_NAME = 'mochila'\n",
    "\n",
    "def get_db_connection(host='127.0.0.1', port=8529, user='root', password=''):\n",
    "    client = ArangoClient(hosts=[f\"http://{host}:{port}\"])\n",
    "\n",
    "    # Ensure the mochila db exists (will fail if user doesn't have CREATE DB permissions)\n",
    "    sys_db = client.db('_system', username=user, password=password)\n",
    "    if not sys_db.has_database(DATABASE_NAME):\n",
    "        sys_db.create_database(DATABASE_NAME)\n",
    "\n",
    "    return client.db(DATABASE_NAME, username=user, password=password)\n",
    "\n",
    "arango_db = get_db_connection()\n",
    "\n",
    "# Declare reactive variables at the top level. Components using these variables\n",
    "# will be re-executed when their values change.\n",
    "db_name = ''\n",
    "collections = None\n",
    "sample_collection = solara.reactive('')\n",
    "samples = None\n",
    "\n",
    "def set_sample_collection(value):\n",
    "    global sample_collection\n",
    "    sample_collection.value = value\n",
    "\n",
    "@solara.component\n",
    "def Page():\n",
    "    coll_names = [col['name'] for col in arango_db.collections() if col['name'][0] != '_']\n",
    "    coll_info = [\n",
    "            {'name': col, 'count': arango_db.collection(col).count()}\n",
    "            for col\n",
    "            in coll_names\n",
    "        ]\n",
    "\n",
    "    if sample_collection.value:\n",
    "        data_samples = [e for e in arango_db.collection(sample_collection.value).all(limit=10).batch()]\n",
    "    else:\n",
    "        data_samples = []\n",
    "\n",
    "    db_name = f\"Using database: {arango_db.db_name}\"\n",
    "    collections = json.dumps(coll_info, indent=2)\n",
    "    samples = json.dumps(data_samples, indent=2)\n",
    "\n",
    "\n",
    "    solara.HTML('h1', db_name)\n",
    "    solara.HTML('h2', \"Event catalog\")\n",
    "    solara.HTML('pre', collections)\n",
    "    solara.HTML('h2', \"Data sample\")\n",
    "    solara.Select('Event source', coll_names, on_value=set_sample_collection)\n",
    "    solara.HTML('pre', samples, style=\"border: solid 1px black; height: 400px; overflow: auto;\")\n",
    "\n",
    "Page()"
   ]
  },
  {
   "cell_type": "markdown",
   "id": "8b4cfb33",
   "metadata": {},
   "source": []
  }
 ],
 "metadata": {
  "celltoolbar": "Edit Metadata",
  "kernelspec": {
   "display_name": "Python 3 (ipykernel)",
   "language": "python",
   "name": "python3"
  },
  "language_info": {
   "codemirror_mode": {
    "name": "ipython",
    "version": 3
   },
   "file_extension": ".py",
   "mimetype": "text/x-python",
   "name": "python",
   "nbconvert_exporter": "python",
   "pygments_lexer": "ipython3",
   "version": "3.10.11"
  }
 },
 "nbformat": 4,
 "nbformat_minor": 5
}
